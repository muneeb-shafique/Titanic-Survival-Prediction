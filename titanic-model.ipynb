{
 "cells": [
  {
   "cell_type": "code",
   "execution_count": null,
   "id": "5f36997e-8a83-402b-93ec-fc4e40f682ff",
   "metadata": {},
   "outputs": [],
   "source": []
  }
 ],
 "metadata": {
  "kernelspec": {
   "display_name": "",
   "name": ""
  },
  "language_info": {
   "name": ""
  }
 },
 "nbformat": 4,
 "nbformat_minor": 5
}
